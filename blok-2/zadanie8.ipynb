{
 "cells": [
  {
   "attachments": {},
   "cell_type": "markdown",
   "metadata": {},
   "source": [
    "## Metody Nieparametryczne w Statystyce\n",
    "# Zadanie 8\n",
    "Za pomocą odpowiednich symulacji zbadać odsetek odrzuceń prawdziwej hipotezy głównej (tzn. błąd I rodzaju) w teście istotności współczynnika korelacji w przypadku, gdy dane pochodzą z rozkładu 𝜒2 i rozkładu −1 ∙ 𝜒2 (tzn. generujemy dane z rozkładu 𝜒2 i mnożymy je przez -1). W trakcie symulowania danych należy pamiętać, by dane spełniały hipotezę główną\n",
    "\n",
    "### autor: Maciej Komosa\n",
    "\n",
    "1. Importowanie potrzebnych bibliotek."
   ]
  },
  {
   "cell_type": "code",
   "execution_count": null,
   "metadata": {},
   "outputs": [],
   "source": [
    "import numpy as np, pandas as pd\n",
    "from scipy.stats import pearsonr, spearmanr, chi2\n",
    "from tqdm import tqdm\n",
    "import matplotlib.pyplot as plt"
   ]
  }
 ],
 "metadata": {
  "kernelspec": {
   "display_name": "Python 3",
   "language": "python",
   "name": "python3"
  },
  "language_info": {
   "name": "python",
   "version": "3.9.10"
  },
  "orig_nbformat": 4
 },
 "nbformat": 4,
 "nbformat_minor": 2
}
